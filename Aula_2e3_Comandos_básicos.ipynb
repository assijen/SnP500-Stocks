{
  "nbformat": 4,
  "nbformat_minor": 0,
  "metadata": {
    "kernelspec": {
      "display_name": "Python 3",
      "language": "python",
      "name": "python3"
    },
    "language_info": {
      "codemirror_mode": {
        "name": "ipython",
        "version": 3
      },
      "file_extension": ".py",
      "mimetype": "text/x-python",
      "name": "python",
      "nbconvert_exporter": "python",
      "pygments_lexer": "ipython3",
      "version": "3.8.5"
    },
    "colab": {
      "name": "Aula 2e3_Comandos básicos.ipynb",
      "provenance": [],
      "collapsed_sections": [
        "EaTlLDFb-6yB",
        "fbLGr-dl_Chb",
        "ownZyNdi_J8d",
        "X9J0jSmLJ1Ud",
        "YJq0lPwIdxOY",
        "_24Oi8PzOkCY",
        "UTevv6xNOt5L",
        "Bd2yakcuPm9U"
      ],
      "include_colab_link": true
    }
  },
  "cells": [
    {
      "cell_type": "markdown",
      "metadata": {
        "id": "view-in-github",
        "colab_type": "text"
      },
      "source": [
        "<a href=\"https://colab.research.google.com/github/assijen/SnP500-Stocks/blob/main/Aula_2e3_Comandos_ba%CC%81sicos.ipynb\" target=\"_parent\"><img src=\"https://colab.research.google.com/assets/colab-badge.svg\" alt=\"Open In Colab\"/></a>"
      ]
    },
    {
      "cell_type": "markdown",
      "metadata": {
        "id": "8wnyRJjEVSvB"
      },
      "source": [
        "<head>\n",
        "  <meta name=\"author\" content=\"Rogério de Oliveira\">\n",
        "  <meta institution=\"author\" content=\"Universidade Presbiteriana Mackenzie\">\n",
        "</head>\n",
        "\n",
        "<img src=\"http://meusite.mackenzie.br/rogerio/mackenzie_logo/UPM.2_horizontal_vermelho.jpg\" width=300, align=\"right\"></a>\n",
        "<!-- <h1 align=left><font size = 6, style=\"color:rgb(200,0,0)\"> optional title </font></h1> -->\n",
        "\n",
        "\n"
      ]
    },
    {
      "cell_type": "markdown",
      "metadata": {
        "id": "fJKTMpbTcF27"
      },
      "source": [
        "# Introdução\n",
        "Python é uma linguagem bastante poderosa e com muitos recursos. Nessa introdução de Python para Ciência de Dados vamos aprender apenas um conjunto de recursos mínimos que serão necessários para fazermos a maior parte de nossas análises no curso."
      ]
    },
    {
      "cell_type": "markdown",
      "metadata": {
        "id": "BfjENO--3Wdm"
      },
      "source": [
        "# Tipo de variáveis\n"
      ]
    },
    {
      "cell_type": "markdown",
      "metadata": {
        "id": "3-UzE3HaDERW"
      },
      "source": [
        "\n",
        "## Variáveis de tipo numérico \n",
        "inteiro (int)\\\n",
        "ponto flutuante (float) \\\n",
        "booleano (bool)"
      ]
    },
    {
      "cell_type": "code",
      "metadata": {
        "id": "9DNMfcNBDERZ",
        "colab": {
          "base_uri": "https://localhost:8080/"
        },
        "outputId": "2de6ce1a-dff0-4fab-8f5f-6413e5f93753"
      },
      "source": [
        "#Inteiro\n",
        "a=10\n",
        "print(a)\n",
        "type(a)"
      ],
      "execution_count": null,
      "outputs": [
        {
          "output_type": "stream",
          "text": [
            "10\n"
          ],
          "name": "stdout"
        },
        {
          "output_type": "execute_result",
          "data": {
            "text/plain": [
              "int"
            ]
          },
          "metadata": {},
          "execution_count": 1
        }
      ]
    },
    {
      "cell_type": "code",
      "metadata": {
        "id": "l6kIiTLJDERa",
        "colab": {
          "base_uri": "https://localhost:8080/"
        },
        "outputId": "c098e6b4-d2df-404a-f0b3-fe7738ff3979"
      },
      "source": [
        "# Números decimais\n",
        "b=2.0\n",
        "print(b)\n",
        "type(b)"
      ],
      "execution_count": null,
      "outputs": [
        {
          "output_type": "stream",
          "text": [
            "2.0\n"
          ],
          "name": "stdout"
        },
        {
          "output_type": "execute_result",
          "data": {
            "text/plain": [
              "float"
            ]
          },
          "metadata": {},
          "execution_count": 4
        }
      ]
    },
    {
      "cell_type": "code",
      "metadata": {
        "id": "2iI6zxWSDERa",
        "colab": {
          "base_uri": "https://localhost:8080/"
        },
        "outputId": "5feadbfb-d77f-4c15-ace6-6ff33826bfde"
      },
      "source": [
        "# Booleano (Falso; Verdadeiro)\n",
        "a=2\n",
        "b=3\n",
        "c=a>b\n",
        "print(c) #0: Falso;  1: Verdadeiro\n",
        "type(c)"
      ],
      "execution_count": null,
      "outputs": [
        {
          "output_type": "stream",
          "text": [
            "False\n"
          ],
          "name": "stdout"
        },
        {
          "output_type": "execute_result",
          "data": {
            "text/plain": [
              "bool"
            ]
          },
          "metadata": {},
          "execution_count": 6
        }
      ]
    },
    {
      "cell_type": "markdown",
      "metadata": {
        "id": "ncBw8UHcDERb"
      },
      "source": [
        "<font color='blue'> Operadores aritméticos</font>\n",
        "\n",
        "Soma (+) \\\n",
        "Diferença (Subtração) (-) \\\n",
        "Multiplicação ( * ) \\\n",
        "Divisão (/) \\\n",
        "Divisão inteira (//) O resultado da divisão é truncado para inteiro imediatamente inferior \\\n",
        "Módulo (%) \\\n",
        "Potência (**) \\\n",
        "\n",
        "\n",
        "<font color='blue'> Operadores lógicos</font>\n",
        "\n",
        "\n",
        "Maior (>) \\\n",
        "Menor (<) \\\n",
        "Maior ou igual (>=) \\\n",
        "Menor ou igual (<=) \\\n",
        "Igual (==) \\\n",
        "Diferente (!=)\n",
        "\n",
        "\n",
        "<font color='blue'> Funções para tipos numéricos </font>\n",
        "\n",
        "abs(): Retorna o valor absoluto do número. \\\n",
        "pow(): Eleva um número por outro. \\\n",
        "round(): Retorna um número real com o arredondamento especificado."
      ]
    },
    {
      "cell_type": "code",
      "metadata": {
        "id": "c7USfHz_DERc",
        "colab": {
          "base_uri": "https://localhost:8080/"
        },
        "outputId": "cc5cbd3c-bc7f-442a-ce04-d6b86fd10d86"
      },
      "source": [
        "# Exemplos\n",
        "print(5//2)\n",
        "print(2+3)\n",
        "print(2==3) # print (falso)\n",
        "print(abs(-4))\n",
        "print(round(2.31848484,4))\n",
        "print(pow(2,10))"
      ],
      "execution_count": null,
      "outputs": [
        {
          "output_type": "stream",
          "text": [
            "2\n",
            "5\n",
            "False\n",
            "4\n",
            "2.3185\n",
            "1024\n"
          ],
          "name": "stdout"
        }
      ]
    },
    {
      "cell_type": "code",
      "metadata": {
        "colab": {
          "base_uri": "https://localhost:8080/"
        },
        "id": "G7HLp-tqg0uU",
        "outputId": "a92b5cb2-66b5-4fa9-dfa3-e039ef77835d"
      },
      "source": [
        "1+3\n",
        "2+3"
      ],
      "execution_count": null,
      "outputs": [
        {
          "output_type": "execute_result",
          "data": {
            "text/plain": [
              "5"
            ]
          },
          "metadata": {},
          "execution_count": 13
        }
      ]
    },
    {
      "cell_type": "markdown",
      "metadata": {
        "id": "o7NdYLes6adb"
      },
      "source": [
        "## Variáveis de tipo texto (String)"
      ]
    },
    {
      "cell_type": "markdown",
      "metadata": {
        "id": "5Ye4VE9mDERc"
      },
      "source": [
        " <span style=\"color:red\"> Variáveis de tipo texto (String)</span> "
      ]
    },
    {
      "cell_type": "code",
      "metadata": {
        "id": "LCpfiCOyDERc",
        "colab": {
          "base_uri": "https://localhost:8080/"
        },
        "outputId": "9c6846b3-c6be-4909-f69c-7d28fea5d830"
      },
      "source": [
        "nome=\"Orlando Yesid Esparza\"\n",
        "nac= \"Colombiana\"\n",
        "idade= \"31 anos\"\n",
        "print(\"Nome:\", nome,\";\",\"Nacionalidade:\", nac,\";\", \"Idade:\", idade)"
      ],
      "execution_count": null,
      "outputs": [
        {
          "output_type": "stream",
          "text": [
            "Nome: Orlando Yesid Esparza ; Nacionalidade: Colombiana ; Idade: 31 anos\n"
          ],
          "name": "stdout"
        }
      ]
    },
    {
      "cell_type": "code",
      "metadata": {
        "id": "cKrq_riXFTes",
        "colab": {
          "base_uri": "https://localhost:8080/",
          "height": 35
        },
        "outputId": "155fd753-553e-46b2-ba3a-83c5bcbc7c57"
      },
      "source": [
        "nome.lower()\n",
        "nome.upper() \n",
        "\"Você está aprovado\".replace('aprovado','reprovado')"
      ],
      "execution_count": null,
      "outputs": [
        {
          "output_type": "execute_result",
          "data": {
            "application/vnd.google.colaboratory.intrinsic+json": {
              "type": "string"
            },
            "text/plain": [
              "'Você está reprovado'"
            ]
          },
          "metadata": {},
          "execution_count": 22
        }
      ]
    },
    {
      "cell_type": "markdown",
      "metadata": {
        "id": "aQgXP25l7PVH"
      },
      "source": [
        "# Comandos básicos e funções\n",
        "\n",
        "Imports básicos! \n",
        "\n",
        "import <font color='green'> random </font> as rd \\\n",
        "import <font color='green'> numpy </font> as np \\\n",
        "import <font color='green'> pandas</font> as pd \\\n",
        "import<font color='green'> math </font> \\\n",
        "from <font color='green'>math</font> import  <font color='green'>sqrt </font> as raiz\n",
        "\n",
        "https://docs.python.org/pt-br/3/library/ (random)"
      ]
    },
    {
      "cell_type": "markdown",
      "metadata": {
        "id": "EaTlLDFb-6yB"
      },
      "source": [
        "### Random"
      ]
    },
    {
      "cell_type": "code",
      "metadata": {
        "id": "QjE3xAb09Ml5"
      },
      "source": [
        "import random\n",
        "random.seed(12)\n",
        "list(range(0,10)) # range (i, j) produz valores entre i e j-1\n",
        "random.sample(list(range(0,10)),3)\n",
        "random.randint(1,10) # inteiro entre 1 e 10\n",
        "random.normalvariate(300,10) #normal(Media, desvio padrão)"
      ],
      "execution_count": null,
      "outputs": []
    },
    {
      "cell_type": "code",
      "metadata": {
        "id": "hdAAjlSIk6rD"
      },
      "source": [
        "import random\n",
        "random.randint(1,10) # inteiro entre 1 e 10"
      ],
      "execution_count": null,
      "outputs": []
    },
    {
      "cell_type": "code",
      "metadata": {
        "id": "EYLqb5Mdlw1V"
      },
      "source": [
        "import math\n",
        "math.exp(2)"
      ],
      "execution_count": null,
      "outputs": []
    },
    {
      "cell_type": "markdown",
      "metadata": {
        "id": "fbLGr-dl_Chb"
      },
      "source": [
        "### Numpy"
      ]
    },
    {
      "cell_type": "code",
      "metadata": {
        "id": "-pAJdKN3M8Yc",
        "colab": {
          "base_uri": "https://localhost:8080/"
        },
        "outputId": "f1965ebc-87e5-4d53-cb55-91afbedf2930"
      },
      "source": [
        "import numpy as np\n",
        "notas=[3,6,7.5,10,3.5] \n",
        "\n",
        "len(notas) #quantos elementos há\n",
        "np.mod(4,3)\n",
        "np.mean(notas)\n",
        "np.std(notas) #desvio padrão\n",
        "print(\"A nota média do curso foi\", np.mean(notas), \"com desvio padrão de\",np.std(notas))\n",
        "print(\"A nota média do curso foi\", np.mean(notas), \"com desvio padrão de\", round(np.std(notas),4) )\n"
      ],
      "execution_count": null,
      "outputs": [
        {
          "output_type": "stream",
          "text": [
            "A nota média do curso foi 6.0 com desvio padrão de 2.588435821108957\n",
            "A nota média do curso foi 6.0 com desvio padrão de 2.5884\n"
          ],
          "name": "stdout"
        }
      ]
    },
    {
      "cell_type": "code",
      "metadata": {
        "colab": {
          "base_uri": "https://localhost:8080/"
        },
        "id": "7pibTL1ImkNZ",
        "outputId": "eb0102d8-06fd-460f-9415-ca45879c1d3f"
      },
      "source": [
        "sum(notas)/len(notas) #quantos elementos há\n"
      ],
      "execution_count": null,
      "outputs": [
        {
          "output_type": "execute_result",
          "data": {
            "text/plain": [
              "6.0"
            ]
          },
          "metadata": {},
          "execution_count": 36
        }
      ]
    },
    {
      "cell_type": "markdown",
      "metadata": {
        "id": "SChl5M5YnWHO"
      },
      "source": [
        "$e^2$"
      ]
    },
    {
      "cell_type": "code",
      "metadata": {
        "id": "e_POpf7jWrGR"
      },
      "source": [
        "Preços=np.array([200,120,322,455,600,123,301])\n",
        "Descontos=np.array([0.03,0.05,0.10,0.10,0.01,0.1,0.2])\n",
        "\n",
        "PreçosAtualizados=Preços-Preços*Descontos\n",
        "\n",
        "print(\"Os novos preços são:\",PreçosAtualizados)"
      ],
      "execution_count": null,
      "outputs": []
    },
    {
      "cell_type": "code",
      "metadata": {
        "id": "XRkOcxl7_bZa",
        "colab": {
          "base_uri": "https://localhost:8080/"
        },
        "outputId": "ee176928-4907-4f86-e7e3-1cbeec94bc01"
      },
      "source": [
        "#Indexação de arrays\n",
        "#PreçosAtualizados[0]\n",
        "#PreçosAtualizados[0:3] #mostra os elementos do indice 0 até 3-1 \n",
        "#PreçosAtualizados[:5]\n",
        "#PreçosAtualizados[3:]\n",
        "#PreçosAtualizados[:]"
      ],
      "execution_count": null,
      "outputs": [
        {
          "output_type": "execute_result",
          "data": {
            "text/plain": [
              "array([194. , 114. , 289.8, 409.5, 594. ])"
            ]
          },
          "metadata": {},
          "execution_count": 48
        }
      ]
    },
    {
      "cell_type": "code",
      "metadata": {
        "id": "KHxxEQF0BLM2"
      },
      "source": [
        "notas=np.array([3,6,7.5,10,3.5])\n",
        "aprovados=notas[notas>=6]\n",
        "aprovados\n",
        "len(aprovados)\n",
        "aprovados.mean()"
      ],
      "execution_count": null,
      "outputs": []
    },
    {
      "cell_type": "markdown",
      "metadata": {
        "id": "ownZyNdi_J8d"
      },
      "source": [
        "### Pandas"
      ]
    },
    {
      "cell_type": "code",
      "metadata": {
        "id": "MOiWPdJwGNFg",
        "colab": {
          "base_uri": "https://localhost:8080/"
        },
        "outputId": "2fa5ce47-0b0a-456b-8279-3d18b464d71b"
      },
      "source": [
        "import pandas as pd\n",
        "altura=[176.7,168.9,164.6,180.2,165.6]\n",
        "altura\n",
        "pd.Series(altura)\n",
        "nomes=[\"andré\",\"Camila\",\"Andrea\",\"Fernando\", \"Thiago\"]\n",
        "pd.Series(altura,index=nomes)\n",
        "\n",
        "# Pandas é muito útil para crial Dataframes"
      ],
      "execution_count": null,
      "outputs": [
        {
          "output_type": "execute_result",
          "data": {
            "text/plain": [
              "andré       176.7\n",
              "Camila      168.9\n",
              "Andrea      164.6\n",
              "Fernando    180.2\n",
              "Thiago      165.6\n",
              "dtype: float64"
            ]
          },
          "metadata": {},
          "execution_count": 54
        }
      ]
    },
    {
      "cell_type": "markdown",
      "metadata": {
        "id": "X9J0jSmLJ1Ud"
      },
      "source": [
        "## Estruturas condicionais\n",
        "\n",
        "<font color='green'> IF ELSE </font> \\\n",
        "<font color='red'> FOR </font> \\\n",
        "<font color='blue'> WHILE </font> \\"
      ]
    },
    {
      "cell_type": "markdown",
      "metadata": {
        "id": "d35FLhfPdiMG"
      },
      "source": [
        "Note que em Python as instruções **aninhadas** são **identadas** (*tab*), o que corresponde ao `{}` de linguagens como Java e C. Assim os comandos *aninhados* à condição ou laço do programa devem estar à direita do comando inicial da condição ou laço.\n",
        "\n",
        "```\n",
        "Condição 1...\n",
        " Comando A...\n",
        " Comando B...\n",
        " Condição 2...\n",
        "   Comando C...\n",
        "\n",
        " Comando D...\n",
        "\n",
        "Comando E \n",
        "```\n",
        "\n",
        "Comando D executa dentro da condição 1, mas fora da condição 2.\n",
        "\n"
      ]
    },
    {
      "cell_type": "markdown",
      "metadata": {
        "id": "mxBd3v80pZ5E"
      },
      "source": [
        "<font color='IndianRed'> Os operadores booleanos </font>\n",
        "\n",
        "Podemos construir condições mais complexas utilizando os operadores lógicos. Eles são: \\\n",
        "\n",
        "<font color='DarkCyan'> and </font>\n",
        "Retorna um valor verdadeiro se receber duas expressões que forem verdadeiras.\\\n",
        "<font color='DarkCyan'> or  </font>\t \t      Retorna um valor falso se receber duas expressões que forem falsas. \\\n",
        "<font color='DarkCyan'> not </font>\t \tRetorna falso se receber uma expressão verdadeira e vice-versa.\\\n",
        "<font color='DarkCyan'> in </font>\t \t Retorna verdadeiro se ao receber um item e uma lista o item está uma (ou mais vezes) na lista, e falso em caso contrário."
      ]
    },
    {
      "cell_type": "code",
      "metadata": {
        "id": "TpUNdBz572v-"
      },
      "source": [
        "#IF\n",
        "#verifica uma condição, se for verdadeira fará o código do bloco seguinte \n",
        "\n",
        "#if <expr>:\n",
        "#    <statement(s)>\n",
        "#else:\n",
        "#    <statement(s)>"
      ],
      "execution_count": null,
      "outputs": []
    },
    {
      "cell_type": "code",
      "metadata": {
        "id": "piSeGAEY8fO8",
        "colab": {
          "base_uri": "https://localhost:8080/"
        },
        "outputId": "09da5863-d25d-4aa7-fd58-50bf8e1910d9"
      },
      "source": [
        "x = 2\n",
        "y = 6\n",
        "\n",
        "if (x < y):\n",
        "  print(\"y é maior que x\")\n",
        "else:\n",
        "  print(\"x é maior que y\")"
      ],
      "execution_count": null,
      "outputs": [
        {
          "output_type": "stream",
          "text": [
            "y é maior que x\n"
          ],
          "name": "stdout"
        }
      ]
    },
    {
      "cell_type": "code",
      "metadata": {
        "id": "EKAxh73-9wXh",
        "colab": {
          "base_uri": "https://localhost:8080/"
        },
        "outputId": "04676c13-633e-42dd-b2ab-f3d8357b5f32"
      },
      "source": [
        "x = 10\n",
        "y = 10\n",
        "\n",
        "if (x < y):\n",
        "  print(\"y é maior que x\")\n",
        "elif (x == y):\n",
        "  print(\"x é igual a y\")\n",
        "else:\n",
        "  print(\"x é maior que y\")"
      ],
      "execution_count": null,
      "outputs": [
        {
          "output_type": "stream",
          "text": [
            "x é igual a y\n"
          ],
          "name": "stdout"
        }
      ]
    },
    {
      "cell_type": "markdown",
      "metadata": {
        "id": "82z_HEV3orai"
      },
      "source": [
        "FOR/WHILE\n",
        "\n",
        "There are two types of loops in Python, for and while.\n",
        "\n",
        "**For** loops iterate over a given sequence.\\\n",
        "**While** loops repeat as long as a certain boolean condition is met.\n",
        "\n"
      ]
    },
    {
      "cell_type": "code",
      "metadata": {
        "id": "ChBuXTb6US6A"
      },
      "source": [
        "#FOR\n",
        "#for <var> in <iterable>:\n",
        "#    <statement(s)>\n",
        "\n",
        "comprimento=[4.1,5,0.8,4.9,5.1,5.7,5.8,4,10,1.5]\n",
        "for k in comprimento:\n",
        "  print(k)"
      ],
      "execution_count": null,
      "outputs": []
    },
    {
      "cell_type": "code",
      "metadata": {
        "id": "gLymUCfHU6gq"
      },
      "source": [
        "for peça in comprimento:\n",
        "  if (peça>4.5 and peça<5.5):\n",
        "    print(\"bom\",peça)\n",
        "  else:\n",
        "    print(\"Ruim\",peça)\n",
        "\n",
        "#trocar i"
      ],
      "execution_count": null,
      "outputs": []
    },
    {
      "cell_type": "code",
      "metadata": {
        "id": "YzFTWXE5r7Z2",
        "colab": {
          "base_uri": "https://localhost:8080/"
        },
        "outputId": "0f465825-0a50-47d7-9e6a-1db99ac33a42"
      },
      "source": [
        "# WHILE\n",
        "# while < expr >: \n",
        "# < statement(s) > \n",
        "\n",
        "votos = 0\n",
        "while votos < 6:\n",
        "  votos = votos + 1 #votos += 1\n",
        "  print(votos)"
      ],
      "execution_count": null,
      "outputs": [
        {
          "output_type": "stream",
          "text": [
            "1\n",
            "2\n",
            "3\n",
            "4\n",
            "5\n",
            "6\n"
          ],
          "name": "stdout"
        }
      ]
    },
    {
      "cell_type": "code",
      "metadata": {
        "id": "lDEy0ScqiP_d"
      },
      "source": [
        "valor=[] # valores digitados\n",
        "i=0\n",
        "while i <10:\n",
        "  valor= int(input('Digite o comprimento '))\n",
        "  i=valor\n",
        "  print(valor)"
      ],
      "execution_count": null,
      "outputs": []
    },
    {
      "cell_type": "code",
      "metadata": {
        "id": "eHWB0gL_YDdM"
      },
      "source": [
        "valor=[]\n",
        "T= 1\n",
        "while T==1:\n",
        "  valor= int(input('Digite o comprimento da peça '))\n",
        "  if valor<4.5:\n",
        "    print(\"Fora de controle\")\n",
        "    break"
      ],
      "execution_count": null,
      "outputs": []
    },
    {
      "cell_type": "code",
      "metadata": {
        "id": "NC9QnuW8fZDg"
      },
      "source": [
        ""
      ],
      "execution_count": null,
      "outputs": []
    },
    {
      "cell_type": "code",
      "metadata": {
        "colab": {
          "base_uri": "https://localhost:8080/"
        },
        "id": "lbBmlQWefZAi",
        "outputId": "55501f1e-e56e-4453-a329-499b2dafb175"
      },
      "source": [
        "ano=2021\n",
        "while ano==2021:\n",
        "  valor= int(input('Digite o comprimento da peça '))\n",
        "  if valor >10:\n",
        "    break"
      ],
      "execution_count": null,
      "outputs": [
        {
          "output_type": "stream",
          "text": [
            "Digite o comprimento da peça 9\n",
            "Digite o comprimento da peça 12\n"
          ],
          "name": "stdout"
        }
      ]
    },
    {
      "cell_type": "code",
      "metadata": {
        "id": "V56bSqmFfY9Q"
      },
      "source": [
        ""
      ],
      "execution_count": null,
      "outputs": []
    },
    {
      "cell_type": "code",
      "metadata": {
        "id": "7X0CQzQafYye"
      },
      "source": [
        ""
      ],
      "execution_count": null,
      "outputs": []
    },
    {
      "cell_type": "markdown",
      "metadata": {
        "id": "YJq0lPwIdxOY"
      },
      "source": [
        "## Funções\n",
        "\n",
        "Nossos programas não precisarão necessariamente de *criar* funções, mas é comum a chamada de funções e o seu uso pode permitir deixar o código mais modular e enxuto. \n"
      ]
    },
    {
      "cell_type": "code",
      "metadata": {
        "id": "-fTrfZIgdwLX"
      },
      "source": [
        "def fmaximo(a,b):\n",
        "  if a > b:\n",
        "    return a\n",
        "  else:\n",
        "    return b"
      ],
      "execution_count": null,
      "outputs": []
    },
    {
      "cell_type": "code",
      "metadata": {
        "id": "fu3CkhEHenQ_"
      },
      "source": [
        ""
      ],
      "execution_count": null,
      "outputs": []
    },
    {
      "cell_type": "markdown",
      "metadata": {
        "id": "dIWoZuZocgkb"
      },
      "source": [
        "# Estruturas de Dados *\n",
        "\n",
        "Estruturas de dados como Lists, Sets, Tuples, Sequencies e Dictionary desempenham um papel fundamental tanto para programação em geral como para aplicações mais avançadas como a análise de dados. \n",
        "\n",
        "## Coleções\n",
        "\n",
        "Existem quatro tipos de dados de coleções em Python:\n",
        "\n",
        "- Lista (**list**) é uma coleção que é ordenada e mutável. Permite membros duplicados.\n",
        "- Tupla (**tuple**) é uma coleção que é ordenada e imutável. Permite membros duplicados.\n",
        "- Conjunto (**set**) é uma coleção não ordenada e não indexada. Nenhum membro duplicado.\n",
        "- Dicionário (**dictionary**) é uma coleção desordenada, mutável e indexada. Nenhum membro duplicado.\n",
        "\n",
        "Vamos nos deter aqui apenas nas estruturas de listas e dicionários que terão mais utilidade para os nossos propósitos."
      ]
    },
    {
      "cell_type": "markdown",
      "metadata": {
        "id": "aSmPhwrF3YjU"
      },
      "source": [
        "## Listas"
      ]
    },
    {
      "cell_type": "markdown",
      "metadata": {
        "id": "Id_3YhEJDERd"
      },
      "source": [
        "Na programação Python, uma lista é criada colocando todos os itens (elementos) entre colchetes [ ], separados por vírgulas.\n",
        "\n",
        "Ele pode ter qualquer número de itens e eles podem ser de tipos diferentes (inteiro, flutuante, string etc.)."
      ]
    },
    {
      "cell_type": "code",
      "metadata": {
        "id": "HLrbU_XNDERd",
        "colab": {
          "base_uri": "https://localhost:8080/"
        },
        "outputId": "66af6edf-dd57-48c2-e80a-a089d6db0652"
      },
      "source": [
        "# Criando uma lista\n",
        "Notas = [2,3.4,7,8,1.4]\n",
        "Notas\n",
        "# Índices de listas\n",
        "print(Notas[0])\n",
        "print(Notas[1])\n",
        "print(Notas[2])\n",
        "print(Notas[3])\n",
        "print(Notas[4])\n",
        "print(Notas[0:3]) # considera as posições 0 e 1\n"
      ],
      "execution_count": null,
      "outputs": [
        {
          "output_type": "stream",
          "text": [
            "[2, 3.4, 7]\n"
          ],
          "name": "stdout"
        }
      ]
    },
    {
      "cell_type": "code",
      "metadata": {
        "id": "wgAg5klXDERd",
        "colab": {
          "base_uri": "https://localhost:8080/"
        },
        "outputId": "54af73c2-efac-41b0-c693-285a74bb7900"
      },
      "source": [
        "# Listas Ex 1\n",
        "Informação = [\"Orlando\", \"Colombiano\", 1.78]\n",
        "print(\"Altura:\", Informação[2], \"cm\")"
      ],
      "execution_count": null,
      "outputs": [
        {
          "output_type": "stream",
          "text": [
            "Altura: 1.78 cm\n"
          ],
          "name": "stdout"
        }
      ]
    },
    {
      "cell_type": "code",
      "metadata": {
        "id": "fAdvOm1dDERe",
        "colab": {
          "base_uri": "https://localhost:8080/",
          "height": 35
        },
        "outputId": "ea7225f3-56e0-4770-dd98-026b28ea55e4"
      },
      "source": [
        "# Listas Ex 2\n",
        "Receita= [[\"banana\",\"maça\",\"pera\"],[1,2,0.5]]\n",
        "Receita[0][1]"
      ],
      "execution_count": null,
      "outputs": [
        {
          "output_type": "execute_result",
          "data": {
            "application/vnd.google.colaboratory.intrinsic+json": {
              "type": "string"
            },
            "text/plain": [
              "'maça'"
            ]
          },
          "metadata": {},
          "execution_count": 23
        }
      ]
    },
    {
      "cell_type": "code",
      "metadata": {
        "id": "LkJ5YHMDDERe",
        "colab": {
          "base_uri": "https://localhost:8080/"
        },
        "outputId": "6bec73e6-f1a8-4443-a343-7427e1629d7e"
      },
      "source": [
        "# Listas Ex 3\n",
        "Idades=[21,32,24,27,28,30]\n",
        "#Idades[3:]\n",
        "#Idades[:3] # Considera as posições 0, 1 e 2"
      ],
      "execution_count": null,
      "outputs": [
        {
          "output_type": "execute_result",
          "data": {
            "text/plain": [
              "[21, 32, 24]"
            ]
          },
          "metadata": {},
          "execution_count": 33
        }
      ]
    },
    {
      "cell_type": "markdown",
      "metadata": {
        "id": "a_i_yzb_DERe"
      },
      "source": [
        " <font color='blue'> Como alterar ou adicionar elementos a uma lista?  </font>  \\\n",
        "\n",
        "Podemos adicionar um item a uma lista usando o método append () ou adicionar vários itens usando o método extend ()."
      ]
    },
    {
      "cell_type": "code",
      "metadata": {
        "id": "KbEKdkhZDERf",
        "colab": {
          "base_uri": "https://localhost:8080/"
        },
        "outputId": "01a14a9c-5566-4cdc-ad8b-e30b3e654f49"
      },
      "source": [
        "# Corrigindo valores em uma lista\n",
        "Idades[0]=22\n",
        "Idades"
      ],
      "execution_count": null,
      "outputs": [
        {
          "output_type": "execute_result",
          "data": {
            "text/plain": [
              "[22, 32, 24, 27, 28, 30]"
            ]
          },
          "metadata": {},
          "execution_count": 34
        }
      ]
    },
    {
      "cell_type": "code",
      "metadata": {
        "id": "N43o3lBFDERf",
        "colab": {
          "base_uri": "https://localhost:8080/"
        },
        "outputId": "ab403f8d-d443-47a4-a7b9-6271cf4a318f"
      },
      "source": [
        "# Adicionando valores\n",
        "Idades.append(26)\n",
        "Idades"
      ],
      "execution_count": null,
      "outputs": [
        {
          "output_type": "execute_result",
          "data": {
            "text/plain": [
              "[22, 32, 24, 27, 28, 30, 26]"
            ]
          },
          "metadata": {},
          "execution_count": 35
        }
      ]
    },
    {
      "cell_type": "code",
      "metadata": {
        "id": "kwzy7azrDERf",
        "colab": {
          "base_uri": "https://localhost:8080/"
        },
        "outputId": "e9b85b08-c0f6-4175-89c3-a974a16831cb"
      },
      "source": [
        "# Adicionar una lista\n",
        "Idades.extend([21,32,40])\n",
        "Idades"
      ],
      "execution_count": null,
      "outputs": [
        {
          "output_type": "execute_result",
          "data": {
            "text/plain": [
              "[22, 32, 24, 27, 28, 30, 26, 21, 32, 40]"
            ]
          },
          "metadata": {},
          "execution_count": 36
        }
      ]
    },
    {
      "cell_type": "code",
      "metadata": {
        "id": "Knj5Hgh-DERg",
        "colab": {
          "base_uri": "https://localhost:8080/"
        },
        "outputId": "b2b14fee-54cf-4f70-cd9e-448c76685579"
      },
      "source": [
        "# Repetir valores\n",
        "Fuma1=[\"sim\"]*10\n",
        "Fuma1"
      ],
      "execution_count": null,
      "outputs": [
        {
          "output_type": "execute_result",
          "data": {
            "text/plain": [
              "['sim', 'sim', 'sim', 'sim', 'sim', 'sim', 'sim', 'sim', 'sim', 'sim']"
            ]
          },
          "metadata": {},
          "execution_count": 37
        }
      ]
    },
    {
      "cell_type": "code",
      "metadata": {
        "id": "NM4GsoHkQI4P",
        "colab": {
          "base_uri": "https://localhost:8080/"
        },
        "outputId": "0dd82236-86f4-43ba-82f7-9bdf1a0e7b6b"
      },
      "source": [
        "#Populando uma lista \n",
        "\n",
        "\n",
        "for elem in [1012,2423,124]:\n",
        "    del alunos[elem]\n",
        "\n",
        "print(mylist)"
      ],
      "execution_count": null,
      "outputs": [
        {
          "output_type": "stream",
          "text": [
            "[10, 19, 21, 30, 12, 30]\n"
          ],
          "name": "stdout"
        }
      ]
    },
    {
      "cell_type": "code",
      "metadata": {
        "id": "FjDHcG1ElXzs"
      },
      "source": [
        "input(\"Digite seu nome\")"
      ],
      "execution_count": null,
      "outputs": []
    },
    {
      "cell_type": "markdown",
      "metadata": {
        "id": "5NVke4hTDERg"
      },
      "source": [
        " <font color='blue'> Como deletar ou remover elementos de uma lista?  </font>\n",
        "\n",
        "Podemos excluir um ou mais itens de uma lista usando a palavra-chave del. Ele pode até mesmo excluir a lista inteiramente.\n",
        "Podemos usar o método remove () para remover o item fornecido ou o método pop () para remover um item do índice fornecido."
      ]
    },
    {
      "cell_type": "code",
      "metadata": {
        "colab": {
          "base_uri": "https://localhost:8080/"
        },
        "id": "ErVlVLxbmc0v",
        "outputId": "50e7b9f9-9f2c-4364-88db-ac762769681f"
      },
      "source": [
        "Idades"
      ],
      "execution_count": null,
      "outputs": [
        {
          "output_type": "execute_result",
          "data": {
            "text/plain": [
              "[22, 32, 24, 27, 28, 30, 26, 21, 32, 40]"
            ]
          },
          "metadata": {},
          "execution_count": 44
        }
      ]
    },
    {
      "cell_type": "code",
      "metadata": {
        "id": "TlOJ0GvuDERh",
        "colab": {
          "base_uri": "https://localhost:8080/"
        },
        "outputId": "31a49484-691a-410c-c8c7-e5b8c2dfe857"
      },
      "source": [
        "# Elimina o elemento do índice \"i\"\n",
        "#del Idades[0]\n",
        "#Idades\n",
        "del Idades[2]\n",
        "Idades\n",
        "# del Idades #Elimina todos os elementos"
      ],
      "execution_count": null,
      "outputs": [
        {
          "output_type": "execute_result",
          "data": {
            "text/plain": [
              "[24, 27, 30, 26, 21, 32, 40]"
            ]
          },
          "metadata": {},
          "execution_count": 48
        }
      ]
    },
    {
      "cell_type": "code",
      "metadata": {
        "id": "vJykOnTXDERh",
        "colab": {
          "base_uri": "https://localhost:8080/"
        },
        "outputId": "5ed4f35e-6028-4659-9835-74597a918072"
      },
      "source": [
        "telefone = [2124,3212,8901,2123]\n",
        "telefone.remove(3212)\n",
        "telefone"
      ],
      "execution_count": null,
      "outputs": [
        {
          "output_type": "execute_result",
          "data": {
            "text/plain": [
              "[2124, 8901, 2123]"
            ]
          },
          "metadata": {},
          "execution_count": 46
        }
      ]
    },
    {
      "cell_type": "code",
      "metadata": {
        "id": "RkM1YrKzDERh",
        "colab": {
          "base_uri": "https://localhost:8080/"
        },
        "outputId": "b92f50db-a50e-4d41-9427-2aa63d0175cc"
      },
      "source": [
        "telefone.pop(0) #Devolve o elemento eliminado do índice indicado, se não indica um índice elimina o último elemento"
      ],
      "execution_count": null,
      "outputs": [
        {
          "output_type": "execute_result",
          "data": {
            "text/plain": [
              "2124"
            ]
          },
          "metadata": {},
          "execution_count": 80
        }
      ]
    },
    {
      "cell_type": "markdown",
      "metadata": {
        "id": "2RwFWY_SDERi"
      },
      "source": [
        " <font color='blue'> Python List Methods  </font> \\\n",
        "append() - Add an element to the end of the list \\\n",
        "extend() - Add all elements of a list to the another list \\\n",
        "insert() - Insert an item at the defined index \\\n",
        "remove() - Removes an item from the list \\\n",
        "pop() - Removes and returns an element at the given index \\\n",
        "clear() - Removes all items from the list \\\n",
        "index() - Returns the index of the first matched item \\\n",
        "count() - Returns the count of the number of items passed as an argument \\\n",
        "sort() - Sort items in a list in ascending order \\\n",
        "reverse() - Reverse the order of items in the list \\\n",
        "copy() - Returns a shallow copy of the list \\"
      ]
    },
    {
      "cell_type": "code",
      "metadata": {
        "id": "xm4br-uEDERi",
        "colab": {
          "base_uri": "https://localhost:8080/"
        },
        "outputId": "21f9edde-dd42-4f68-ddb1-f419b3838bd1"
      },
      "source": [
        "#Contar numero de vezes que aparece o elemento \"x\" \n",
        "Idades=[20,21,20,32,43,25,21,20,36,17,29,20,19,17]\n",
        "Idades.count(20)"
      ],
      "execution_count": null,
      "outputs": [
        {
          "output_type": "execute_result",
          "data": {
            "text/plain": [
              "4"
            ]
          },
          "metadata": {},
          "execution_count": 49
        }
      ]
    },
    {
      "cell_type": "code",
      "metadata": {
        "id": "ufj_qEwyDERi",
        "colab": {
          "base_uri": "https://localhost:8080/"
        },
        "outputId": "248d44fd-3595-4a84-bdbb-11ed99c6aab1"
      },
      "source": [
        "Idades.insert(2,16) # .insert(index, elemento)\n",
        "Idades"
      ],
      "execution_count": null,
      "outputs": [
        {
          "output_type": "execute_result",
          "data": {
            "text/plain": [
              "[20, 21, 16, 20, 32, 43, 25, 21, 20, 36, 17, 29, 20, 19, 17]"
            ]
          },
          "metadata": {},
          "execution_count": 50
        }
      ]
    },
    {
      "cell_type": "code",
      "metadata": {
        "id": "wWtdFdvmDERj",
        "colab": {
          "base_uri": "https://localhost:8080/"
        },
        "outputId": "129d186f-e89e-45ae-f073-50c47bac1ff6"
      },
      "source": [
        "Idades.sort(reverse=True)\n",
        "Idades"
      ],
      "execution_count": null,
      "outputs": [
        {
          "output_type": "execute_result",
          "data": {
            "text/plain": [
              "[16, 17, 17, 19, 20, 20, 20, 20, 21, 21, 25, 29, 32, 36, 43]"
            ]
          },
          "metadata": {},
          "execution_count": 52
        }
      ]
    },
    {
      "cell_type": "code",
      "metadata": {
        "id": "_bodJYWgDERj"
      },
      "source": [
        "# Criando uma lista de números em sequência:\n",
        "seq=list(range(10)) # range(n) de 0 a n-1"
      ],
      "execution_count": null,
      "outputs": []
    },
    {
      "cell_type": "code",
      "metadata": {
        "id": "T1VUP52wDERj"
      },
      "source": [
        "# Outra estrutura de for \n",
        "lista = [x*2 for x in range(10)]\n",
        "lista"
      ],
      "execution_count": null,
      "outputs": []
    },
    {
      "cell_type": "code",
      "metadata": {
        "id": "6GkU3jZtDERk"
      },
      "source": [
        "# Percorrendo uma lista com for:\n",
        "for x in lista:\n",
        "    print(x)"
      ],
      "execution_count": null,
      "outputs": []
    },
    {
      "cell_type": "code",
      "metadata": {
        "id": "a4RiCCYuYYz_"
      },
      "source": [
        "# Ver o indice e o valor\n",
        "a=enumerate(lista)\n",
        "print(list(a))"
      ],
      "execution_count": null,
      "outputs": []
    },
    {
      "cell_type": "code",
      "metadata": {
        "id": "1o-nFI6RDERk"
      },
      "source": [
        "# Percorrendo uma lista pegando o seu valor e sua posição:\n",
        "for indice, valor in enumerate(lista):\n",
        "    print(\"Lista[\",indice,\"]: \",valor)"
      ],
      "execution_count": null,
      "outputs": []
    },
    {
      "cell_type": "code",
      "metadata": {
        "id": "srWn3IX1DERl"
      },
      "source": [
        "print(max(lista)) # maior item\n",
        "print(min(lista)) # menor item\n",
        "print(sum(lista)) # somar os valores"
      ],
      "execution_count": null,
      "outputs": []
    },
    {
      "cell_type": "code",
      "metadata": {
        "id": "gYFCkyheDERl"
      },
      "source": [
        "for fruit in ['apple','banana','mango']:\n",
        "    print(\"I like\",fruit)"
      ],
      "execution_count": null,
      "outputs": []
    },
    {
      "cell_type": "markdown",
      "metadata": {
        "id": "80S5Y3E2vFb5"
      },
      "source": [
        "## Tuplas"
      ]
    },
    {
      "cell_type": "markdown",
      "metadata": {
        "id": "Ul9UlbWdDERm"
      },
      "source": [
        "Uma tupla em Python é semelhante a uma lista. A diferença entre os dois é que não podemos alterar os elementos de uma tupla depois de atribuída, enquanto podemos alterar os elementos de uma lista.\n",
        "\\\n",
        "Uma tupla é criada colocando todos os itens (elementos) entre parênteses (), separados por vírgulas. Os parênteses são opcionais, no entanto, é uma boa prática usá-los.\n"
      ]
    },
    {
      "cell_type": "code",
      "metadata": {
        "id": "ZhJ9qCUYCPIT"
      },
      "source": [
        "# tuple with mixed datatypes\n",
        "my_tuple = (1, \"Hello\", 3.4)\n",
        "print(my_tuple)\n",
        "\n",
        "# Accessing tuple elements using indexing\n",
        "my_tuple = ('p','e','r','m','i','t')\n",
        "\n",
        "print(my_tuple[0])   # 'p' \n",
        "print(my_tuple[5])   # 't'"
      ],
      "execution_count": null,
      "outputs": []
    },
    {
      "cell_type": "code",
      "metadata": {
        "id": "6UdEvh0gDERm"
      },
      "source": [
        "# nested tuple (tupla aninhada )\n",
        "n_tuple = (\"mouse\", [8, 4, 6], [1, 2, 3])\n",
        "\n",
        "# nested index\n",
        "print(n_tuple[0][3])       # 's' de mouSe\n",
        "print(n_tuple[1][1])       #  4\n",
        "\n",
        "# Accessing tuple elements using slicing\n",
        "my_tuple = ('p','r','o','g','r','a','m','i','z')\n",
        "print(my_tuple[1:4]) # elements 2nd to 4th"
      ],
      "execution_count": null,
      "outputs": []
    },
    {
      "cell_type": "markdown",
      "metadata": {
        "id": "o_Lob0YpDERm"
      },
      "source": [
        "Ao contrário das listas, as tuplas são imutáveis.\n",
        "\n",
        "Isso significa que os elementos de uma tupla não podem ser alterados depois de atribuídos. Mas, se o próprio elemento for um tipo de dados mutável, como lista, seus itens aninhados podem ser alterados. "
      ]
    },
    {
      "cell_type": "code",
      "metadata": {
        "id": "k2mjRO996yXL"
      },
      "source": [
        "# Changing tuple values\n",
        "my_tuple = (4, 2, 3, 6, 5)\n",
        "my_tuple[1] = 9 # TypeError: 'tuple' object does not support item assignment\n"
      ],
      "execution_count": null,
      "outputs": []
    },
    {
      "cell_type": "code",
      "metadata": {
        "id": "XZip8xX7DERm",
        "colab": {
          "base_uri": "https://localhost:8080/"
        },
        "outputId": "e9605fc5-8cc3-45a6-a993-99bed6fdc9bc"
      },
      "source": [
        "# However, item of mutable element can be changed\n",
        "my_tuple = (4, 2, 3, [6, 5]) #note que [6,5] é uma lista\n",
        "\n",
        "my_tuple[3][0] = 9  #Seleciona o objeto do índice 3 - 0\n",
        "print(my_tuple)\n"
      ],
      "execution_count": null,
      "outputs": [
        {
          "output_type": "stream",
          "text": [
            "(4, 2, 3, [9, 5])\n"
          ],
          "name": "stdout"
        }
      ]
    },
    {
      "cell_type": "code",
      "metadata": {
        "id": "SogP0lQZDERn"
      },
      "source": [
        "# Deleting tuples\n",
        "my_tuple = ('p', 'r', 'o', 'g', 'r', 'a', 'm', 'i', 'z')\n",
        "\n",
        "# can't delete items\n",
        "#del my_tuple[3]\n",
        "# TypeError: 'tuple' object doesn't support item deletion\n",
        "\n",
        "# Can delete an entire tuple\n",
        "del my_tuple\n"
      ],
      "execution_count": null,
      "outputs": []
    },
    {
      "cell_type": "code",
      "metadata": {
        "id": "P9-TRvJtDERn",
        "colab": {
          "base_uri": "https://localhost:8080/"
        },
        "outputId": "014979ae-5625-42e7-9f7d-48be96283cb1"
      },
      "source": [
        "my_tuple = ('a', 'p', 'e', 'p', 'l')\n",
        "\n",
        "print(my_tuple.count('p'))  #contar número de vezes que aparece o elemento\n",
        "print(my_tuple.index('l'))  # Encontrar o índice desse elemento\n",
        "print(my_tuple.index('p',2)) # 'p' after the 2th index is searched"
      ],
      "execution_count": null,
      "outputs": [
        {
          "output_type": "stream",
          "text": [
            "2\n",
            "4\n",
            "3\n"
          ],
          "name": "stdout"
        }
      ]
    },
    {
      "cell_type": "code",
      "metadata": {
        "id": "ool9X1f7DERn",
        "colab": {
          "base_uri": "https://localhost:8080/"
        },
        "outputId": "14ee91a7-75b4-4c36-8c4c-28c553d369c1"
      },
      "source": [
        "# We can test if an item exists in a tuple or not, using the keyword in.\n",
        "\n",
        "cadastro = ('Orlando', 'Daniel', 'Andrea', 'Luiz', 'Erika')\n",
        "\n",
        "print('Orlando' in cadastro)\n",
        "print('Andre' in cadastro)\n",
        "\n",
        "# Not in operation\n",
        "print('Gabriel' not in my_tuple)"
      ],
      "execution_count": null,
      "outputs": [
        {
          "output_type": "stream",
          "text": [
            "True\n",
            "False\n",
            "True\n"
          ],
          "name": "stdout"
        }
      ]
    },
    {
      "cell_type": "code",
      "metadata": {
        "id": "xYFdaPmADERn"
      },
      "source": [
        "# Não é possível alterar informaciones\n",
        "Inf_p=('Homem','Não fuma')\n",
        "Inf_p[1]='Fuma'"
      ],
      "execution_count": null,
      "outputs": []
    },
    {
      "cell_type": "code",
      "metadata": {
        "id": "yP-0SLShDERn",
        "colab": {
          "base_uri": "https://localhost:8080/"
        },
        "outputId": "deb52c6b-3e47-4697-9d3c-21bdef705b8e"
      },
      "source": [
        "# Juntar duas listas criando pares de elementos:\n",
        "cadastro = ('Orlando', 'Daniel', 'Andrea', 'Luiz', 'Erika')\n",
        "RG=(120,341,541,674,101)\n",
        "print(tuple(zip(cadastro,RG)))"
      ],
      "execution_count": null,
      "outputs": [
        {
          "output_type": "stream",
          "text": [
            "(('Orlando', 120), ('Daniel', 341), ('Andrea', 541), ('Luiz', 674), ('Erika', 101))\n"
          ],
          "name": "stdout"
        }
      ]
    },
    {
      "cell_type": "code",
      "metadata": {
        "id": "j0em02gWF6xa",
        "colab": {
          "base_uri": "https://localhost:8080/",
          "height": 35
        },
        "outputId": "aeabbf61-7463-4d25-c6cd-cebeb001e642"
      },
      "source": [
        "\"This will split all words into a list\".split()\n",
        "\n",
        "' '.join(['This', 'will', 'join', 'all', 'words', 'into', 'a', 'string'])"
      ],
      "execution_count": null,
      "outputs": [
        {
          "output_type": "execute_result",
          "data": {
            "application/vnd.google.colaboratory.intrinsic+json": {
              "type": "string"
            },
            "text/plain": [
              "'This will join all words into a string'"
            ]
          },
          "metadata": {},
          "execution_count": 15
        }
      ]
    },
    {
      "cell_type": "markdown",
      "metadata": {
        "id": "Vt62tN8SG1Ah"
      },
      "source": [
        "## Dicionário"
      ]
    },
    {
      "cell_type": "markdown",
      "metadata": {
        "id": "OSlnKB0sDERo"
      },
      "source": [
        "O dicionário Python é uma coleção não ordenada de itens. Cada item de um dicionário possui um par: chave e valor.\n",
        "\n",
        "Os dicionários são otimizados para visualizar valores quando a chave é conhecida.\n",
        "\n",
        "Criar um dicionário é tão simples quanto colocar itens entre chaves {} separados por vírgulas. Um item possui uma chave e um valor correspondente.\n",
        "\n",
        "Dicionário (dictionary) é uma coleção desordenada, mutável e indexada. "
      ]
    },
    {
      "cell_type": "code",
      "metadata": {
        "id": "Ajn6mMdEDERo",
        "colab": {
          "base_uri": "https://localhost:8080/"
        },
        "outputId": "ce99ee36-9e98-433a-ec91-91633e7bac7e"
      },
      "source": [
        "# Dicionário exemplo 1\n",
        "Inf = {'x1': ['John','André','André'], 'x2': [122,322]}\n",
        "print(Inf)"
      ],
      "execution_count": null,
      "outputs": [
        {
          "output_type": "stream",
          "text": [
            "{'x1': ['John', 'André', 'André'], 'x2': [122, 322]}\n"
          ],
          "name": "stdout"
        }
      ]
    },
    {
      "cell_type": "code",
      "metadata": {
        "id": "SJiJF67qDERp",
        "colab": {
          "base_uri": "https://localhost:8080/"
        },
        "outputId": "dc8fdc8d-f766-4528-fc89-7ec890065a08"
      },
      "source": [
        "# using dict()\n",
        "my_dict = dict({'Nacionalidade':'Italiano', 'Idade':20})\n",
        "my_dict"
      ],
      "execution_count": null,
      "outputs": [
        {
          "output_type": "execute_result",
          "data": {
            "text/plain": [
              "{'Idade': 20, 'Nacionalidade': 'Italiano'}"
            ]
          },
          "metadata": {},
          "execution_count": 17
        }
      ]
    },
    {
      "cell_type": "markdown",
      "metadata": {
        "id": "mrRdp5-aDERp"
      },
      "source": [
        "<font color='blue'> Acessando Elementos do Dicionário </font>\n",
        "\n",
        "Enquanto a indexação é usada com outros tipos de dados para acessar valores, um dicionário usa chaves. As chaves podem ser usadas entre colchetes [ ] ou com o método get ()."
      ]
    },
    {
      "cell_type": "code",
      "metadata": {
        "id": "PqmNFXqvDERp",
        "colab": {
          "base_uri": "https://localhost:8080/"
        },
        "outputId": "537543da-ed0f-484b-b774-e3470ea748e4"
      },
      "source": [
        "Inf = {'Nome': ['John','André'], 'Telefóne': [122,322]}\n",
        "print(Inf['Nome']) # Ver os elementos que estão na chave 'Nome'\n",
        "#print(Inf['Nome'][1])"
      ],
      "execution_count": null,
      "outputs": [
        {
          "output_type": "stream",
          "text": [
            "['John', 'André']\n"
          ],
          "name": "stdout"
        }
      ]
    },
    {
      "cell_type": "code",
      "metadata": {
        "id": "Jilq4DbyDERp",
        "colab": {
          "base_uri": "https://localhost:8080/"
        },
        "outputId": "c466dd77-4830-4a98-d2ed-934970de811a"
      },
      "source": [
        "print(Inf.get('Nome')) # # Ver os elementos que estão na chave 'Nome'\n",
        "print(Inf.get('Idade'))"
      ],
      "execution_count": null,
      "outputs": [
        {
          "output_type": "stream",
          "text": [
            "['John', 'André']\n",
            "None\n"
          ],
          "name": "stdout"
        }
      ]
    },
    {
      "cell_type": "code",
      "metadata": {
        "id": "KKt5M-eHQnCl",
        "colab": {
          "base_uri": "https://localhost:8080/"
        },
        "outputId": "4cdb46ce-2cee-4e78-f4d5-eac87cadf214"
      },
      "source": [
        "# Percorrendo um dicionário\n",
        "mydict = {'Beatriz':1978, 'Aline':1987, 'Adriana':1984, 'Daniel':1996} \n",
        "for item in mydict:\n",
        "    print(item, mydict[item])"
      ],
      "execution_count": null,
      "outputs": [
        {
          "output_type": "stream",
          "text": [
            "Beatriz 1978\n",
            "Aline 1987\n",
            "Adriana 1984\n",
            "Daniel 1996\n"
          ],
          "name": "stdout"
        }
      ]
    },
    {
      "cell_type": "code",
      "metadata": {
        "id": "Ekue9B-pQspr",
        "colab": {
          "base_uri": "https://localhost:8080/"
        },
        "outputId": "6f53e766-1eee-4b6b-9de3-b54b89b8524d"
      },
      "source": [
        "#populando um dicionário\n",
        "lista_nomes = [ 'Carolina', 'Henrique' ]\n",
        "lista_niver = [ 2001, 2005 ]\n",
        "\n",
        "mydict = {}\n",
        "\n",
        "for i in [0,1]: \n",
        "    mydict[lista_nomes[i]] = lista_niver[i]\n",
        "\n",
        "\n",
        "print(mydict)"
      ],
      "execution_count": null,
      "outputs": [
        {
          "output_type": "stream",
          "text": [
            "{'Carolina': 2001, 'Henrique': 2005}\n"
          ],
          "name": "stdout"
        }
      ]
    },
    {
      "cell_type": "markdown",
      "metadata": {
        "id": "nMRJbpuDdpMW"
      },
      "source": [
        "Double-click **aqui** \n",
        "\n",
        "<!-- Código\n",
        "#populando um dicionário\n",
        "lista_nomes = [ 'Carolina', 'Carolina' ]\n",
        "lista_niver = [ 2001, 2005 ]\n",
        "\n",
        "mydict = {}\n",
        "\n",
        "for i in [0,1]:\n",
        "  mydict[lista_nomes[i]]=lista_niver[i]\n",
        "mydict\n",
        "-->"
      ]
    },
    {
      "cell_type": "markdown",
      "metadata": {
        "id": "kaISjWtGDERq"
      },
      "source": [
        "<font color='blue'> Alterar e adicionar elementos de dicionário </font>\n",
        "\n",
        "Os dicionários são mutáveis. Podemos adicionar novos itens ou alterar o valor de itens existentes usando um operador de atribuição.\n",
        "\n",
        "Se a chave já estiver presente, o valor existente será atualizado. Caso a chave não esteja presente, um novo par (chave: valor) é adicionado ao dicionário."
      ]
    },
    {
      "cell_type": "code",
      "metadata": {
        "colab": {
          "base_uri": "https://localhost:8080/"
        },
        "id": "fACYnpJGDERq",
        "outputId": "a7cc1090-639d-4d0f-d0e4-fd2a6dbad1e6"
      },
      "source": [
        "# Alterando elementos de dicionário\n",
        "#Inf = {'Nome': ['John','André'], 'Telefóne': [122,322]}\n",
        "#Inf['Telefóne'][0] =123\n",
        "#print(Inf)\n",
        "\n",
        "# adicionando itens\n",
        "#Inf['Bairro'] = ['consolação','Pinheiros']\n",
        "#Inf\n",
        "Inf.update({'UF':['SP','PE']})\n",
        "Inf"
      ],
      "execution_count": null,
      "outputs": [
        {
          "output_type": "execute_result",
          "data": {
            "text/plain": [
              "{'Nome': ['John', 'André'], 'Telefóne': [122, 322], 'UF': ['SP', 'PE']}"
            ]
          },
          "metadata": {},
          "execution_count": 22
        }
      ]
    },
    {
      "cell_type": "markdown",
      "metadata": {
        "id": "i1S_-ujtDERq"
      },
      "source": [
        "<font color='blue'> Removendo elementos do dicionário </font>\n",
        "\n",
        "Podemos remover um item específico de um dicionário usando o método pop (). Este método remove um item com a chave fornecida e retorna o valor. \\\n",
        "O método popitem () pode ser usado para remover e retornar um par de itens arbitrários (chave, valor) do dicionário. \\\n",
        "Todos os itens podem ser removidos de uma vez, usando o método clear ()."
      ]
    },
    {
      "cell_type": "code",
      "metadata": {
        "colab": {
          "base_uri": "https://localhost:8080/"
        },
        "id": "SkRrLwzWDERq",
        "outputId": "e9452b10-a1fa-4172-8426-5af80cb85064"
      },
      "source": [
        "Inf.pop('Nome') #Eliminar chave e seus elementos\n",
        "Inf"
      ],
      "execution_count": null,
      "outputs": [
        {
          "output_type": "execute_result",
          "data": {
            "text/plain": [
              "{'Telefóne': [122, 322], 'UF': ['SP', 'PE']}"
            ]
          },
          "metadata": {},
          "execution_count": 23
        }
      ]
    },
    {
      "cell_type": "code",
      "metadata": {
        "id": "s1ZT6N7EDERr"
      },
      "source": [
        "# remove all items\n",
        "Inf.clear()"
      ],
      "execution_count": null,
      "outputs": []
    },
    {
      "cell_type": "markdown",
      "metadata": {
        "id": "JY5X6WDfDERr"
      },
      "source": [
        "<font color='IndianRed'> Method\tDescription </font > \\\n",
        "\n",
        "clear()\tRemoves all items from the dictionary. \\\n",
        "copy()\tReturns a shallow copy of the dictionary. \\\n",
        "fromkeys(seq[, v])\tReturns a new dictionary with keys from seq and value equal to v (defaults to None).\\\n",
        "get(key[,d])\tReturns the value of the key. If the key does not exist, returns d (defaults to None).\\\n",
        "items()\tReturn a new object of the dictionary's items in (key, value) format.\\\n",
        "keys()\tReturns a new object of the dictionary's keys.\\\n",
        "pop(key[,d])\tRemoves the item with the key and returns its value or d if key is not found. If d is not provided and the key is not found, it raises KeyError.\\\n",
        "popitem()\tRemoves and returns an arbitrary item (key, value). Raises KeyError if the dictionary is empty.\\\n",
        "setdefault(key[,d])\tReturns the corresponding value if the key is in the dictionary. If not, inserts the key with a value of d and returns d (defaults to None).\\\n",
        "update([other])\tUpdates the dictionary with the key/value pairs from other, overwriting existing keys.\\\n",
        "values()\tReturns a new object of the dictionary's values \\"
      ]
    },
    {
      "cell_type": "code",
      "metadata": {
        "id": "sri38OUWDERr",
        "colab": {
          "base_uri": "https://localhost:8080/"
        },
        "outputId": "0fa8a244-3963-479f-d0b5-fd7c377bf8f7"
      },
      "source": [
        "# Ver as chaves\n",
        "Inf = {'Nome': ['John','André'], 'Telefóne': [122,322]}\n",
        "Inf.keys()"
      ],
      "execution_count": null,
      "outputs": [
        {
          "output_type": "execute_result",
          "data": {
            "text/plain": [
              "dict_keys(['Nome', 'Telefóne'])"
            ]
          },
          "metadata": {},
          "execution_count": 25
        }
      ]
    },
    {
      "cell_type": "code",
      "metadata": {
        "id": "G8v2d-CrDERs",
        "colab": {
          "base_uri": "https://localhost:8080/"
        },
        "outputId": "4c41ba85-e486-47f2-c9a7-e44a76485b39"
      },
      "source": [
        "# Ver os valores\n",
        "Inf.values()"
      ],
      "execution_count": null,
      "outputs": [
        {
          "output_type": "execute_result",
          "data": {
            "text/plain": [
              "dict_values([['John', 'André'], [122, 322]])"
            ]
          },
          "metadata": {},
          "execution_count": 26
        }
      ]
    },
    {
      "cell_type": "code",
      "metadata": {
        "colab": {
          "base_uri": "https://localhost:8080/"
        },
        "id": "wzCwsUb6kh6V",
        "outputId": "023ffbe3-1f1f-4b74-a9b3-37d0110bde09"
      },
      "source": [
        "# Atualizar valores\n",
        "Inf_Telefone={'Telefóne':[992121, 992145]}\n",
        "Inf.update(Inf_Telefone)\n",
        "Inf"
      ],
      "execution_count": null,
      "outputs": [
        {
          "output_type": "execute_result",
          "data": {
            "text/plain": [
              "{'Nome': ['John', 'André'], 'Telefóne': [992121, 992145]}"
            ]
          },
          "metadata": {},
          "execution_count": 27
        }
      ]
    },
    {
      "cell_type": "markdown",
      "metadata": {
        "id": "cM-5BK8JJx_D"
      },
      "source": [
        "### Acesso dados Web \n",
        "\n",
        "Isso pode ser útil, mas como no item anterior empregaremos na maior parte do tempo dados no formato de `dataframes` como visto na aula de Teoria. Assim, se quiser, pode deixar esse tópico para mais tarde.\n",
        "\n",
        "\n",
        "link: [Unicode e UTF-8](https://www.ime.usp.br/~pf/algoritmos/apend/unicode.html)\n",
        "\n"
      ]
    },
    {
      "cell_type": "code",
      "metadata": {
        "id": "_bRPWEzMJ1J6"
      },
      "source": [
        "import urllib.request   #Importar biblioteca\n",
        "\n",
        "link='http://meusite.mackenzie.br/rogerio/TIC/PlayBallcsv.csv'\n",
        "data = urllib.request.urlopen(link)\n",
        "\n",
        "# Show data!, you need to split the read CSV data by lines\n",
        "\n",
        "for line in data:\n",
        "   print(line.decode('utf-8'))"
      ],
      "execution_count": null,
      "outputs": []
    },
    {
      "cell_type": "markdown",
      "metadata": {
        "id": "o01GMc5xp5EN"
      },
      "source": [
        "# <font color='red'> Exercícios </font>"
      ]
    },
    {
      "cell_type": "markdown",
      "metadata": {
        "id": "zlcg4pWrKLOn"
      },
      "source": [
        "## **Exercício 1**\n",
        "O código abaixo gera uma lista com 1000 valores aleatórios que será empregada nos próximos exercícios \n"
      ]
    },
    {
      "cell_type": "code",
      "metadata": {
        "id": "yML8ji67KW1J"
      },
      "source": [
        "import random\n",
        "random.seed(1984)\n",
        "x = random.sample(range(1, 10000), 1000)\n",
        "\n",
        "import numpy as np\n",
        "x_sorted = np.sort(x)\n",
        "x_sorted[0:100]"
      ],
      "execution_count": null,
      "outputs": []
    },
    {
      "cell_type": "code",
      "metadata": {
        "id": "RQCp4vB7v8z5"
      },
      "source": [
        "max(x)"
      ],
      "execution_count": null,
      "outputs": []
    },
    {
      "cell_type": "markdown",
      "metadata": {
        "id": "UqnT-31JKioO"
      },
      "source": [
        "Dado o valor de entrada `a`. Encontre a posição, e o primeiro  valor que é maior que `a`, na lista de valores ordenados `x_sorted`.\n"
      ]
    },
    {
      "cell_type": "code",
      "metadata": {
        "id": "9xiXKxo2Kjpw",
        "colab": {
          "base_uri": "https://localhost:8080/"
        },
        "outputId": "f5fbe0e2-25c8-4a82-d147-fd1a9bbcaaec"
      },
      "source": [
        "a = int(input('Digite um valor entre 1 e 9999: '))\n",
        "\n",
        "for i in list(range(1000)):\n",
        "  if x_sorted[i] >= a:\n",
        "    print( x_sorted[i],\"é o primeiro valor maior que\",a, \"e está na posição (índice)\",i, \"no conjunto de dados ordenados\")    \n",
        "    break"
      ],
      "execution_count": null,
      "outputs": [
        {
          "output_type": "stream",
          "text": [
            "Digite um valor entre 1 e 9999: 2020\n",
            "2045 é o primeiro valor maior que 2020 e está na posição (índice) 204 no conjunto de dados ordenados\n"
          ],
          "name": "stdout"
        }
      ]
    },
    {
      "cell_type": "markdown",
      "metadata": {
        "id": "qth_jgN8N5yu"
      },
      "source": [
        "## **Exercício 2**\n",
        "\n",
        "Dado o valor de entrada `a`. Encontre a posição, e o primeiro maior valor que `a`, que seja **PAR**, na lista de valores ordenados `x_sorted`.\n",
        "\n",
        "**DICA:** Para as instruções de `if` empregue as condições entre parênteses e os operadores AND ou OR. "
      ]
    },
    {
      "cell_type": "markdown",
      "metadata": {
        "id": "ohZlb9vKnQyj"
      },
      "source": [
        "click\n",
        "\n"
      ]
    },
    {
      "cell_type": "code",
      "metadata": {
        "id": "h2k7fWxCnQe4"
      },
      "source": [
        "a = int(input('Digite um valor entre 1 e 9999: '))\n",
        "for i in range(1000):\n",
        "  if x_sorted[i] >= a and x_sorted[i]%2==0:\n",
        "    print( x_sorted[i],\"é o primeiro valor maior que\",a, \"e está na posição (índice)\",i, \"no conjunto de dados ordenados\")    \n",
        "    break\n"
      ],
      "execution_count": null,
      "outputs": []
    },
    {
      "cell_type": "code",
      "metadata": {
        "id": "LLaOWrP5w7hF"
      },
      "source": [
        "par=[]\n",
        "\n",
        "for i in range(1000):\n",
        "  if x_sorted[i]%2==0:\n",
        "    par.append(x_sorted[i])"
      ],
      "execution_count": null,
      "outputs": []
    },
    {
      "cell_type": "code",
      "metadata": {
        "id": "3R8ZwEj-xio2",
        "colab": {
          "base_uri": "https://localhost:8080/"
        },
        "outputId": "24353cbd-5ae3-4ff8-8a2f-440441a96947"
      },
      "source": [
        "sum(par)"
      ],
      "execution_count": null,
      "outputs": [
        {
          "output_type": "execute_result",
          "data": {
            "text/plain": [
              "2496034"
            ]
          },
          "metadata": {},
          "execution_count": 91
        }
      ]
    },
    {
      "cell_type": "markdown",
      "metadata": {
        "id": "1cZJA3e4Of79"
      },
      "source": [
        "## **Exercício 3**\n",
        "\n",
        "Percorra a lista `x` (note, é `x`, a lista de elementos **não ordenada**) e encontre o maior valor da lista.\n",
        "\n",
        "DICA: Comece assumindo um valor maior = 0, percorra a lista e substitua sempre que encontrar um maior"
      ]
    },
    {
      "cell_type": "code",
      "metadata": {
        "id": "mbLxSBNgOi6P"
      },
      "source": [
        "# seu código"
      ],
      "execution_count": null,
      "outputs": []
    },
    {
      "cell_type": "markdown",
      "metadata": {
        "id": "_24Oi8PzOkCY"
      },
      "source": [
        "## **Exercício 4**\n",
        "\n",
        "A partir da lista inicial `x` crie uma lista com todos os valores pares e então empregue `sum(sualista)` para exibir o resultado da soma desses valores.\n",
        "\n"
      ]
    },
    {
      "cell_type": "code",
      "metadata": {
        "id": "Sm7WQvX3Ookx"
      },
      "source": [
        "# seu código"
      ],
      "execution_count": null,
      "outputs": []
    },
    {
      "cell_type": "markdown",
      "metadata": {
        "id": "UTevv6xNOt5L"
      },
      "source": [
        "## **Exercício 5**\n",
        "\n",
        "Crie um programa para criar uma lista de nomes a partir da entrada.\n"
      ]
    },
    {
      "cell_type": "code",
      "metadata": {
        "id": "H0B051VMOwg5"
      },
      "source": [
        "T = True\n",
        "o\n",
        "\n",
        "while T:\n",
        "  nome = input('Entre com um nome ou \\'END\\' para terminar: ')\n",
        "  if nome != 'END':\n",
        "    nomes.append(nome)\n",
        "  else:\n",
        "    break\n",
        "\n",
        "print(nomes) "
      ],
      "execution_count": null,
      "outputs": []
    },
    {
      "cell_type": "markdown",
      "metadata": {
        "id": "TvNZxOxlkKc0"
      },
      "source": [
        "Double-click **aqui** \n",
        "\n",
        "<!-- Código\n",
        "nomes = []\n",
        "while True:\n",
        "  name = input(\"Qual é teu nome?\")\n",
        "  if name.isalpha() and name != 'END':\n",
        "    nomes.append(name)\n",
        "    print('Bem-vindo', name)\n",
        "  elif name=='END':\n",
        "    print(nomes)\n",
        "    break\n",
        "  else:\n",
        "    print(\"Please use only letters, try again\")\n",
        "-->"
      ]
    },
    {
      "cell_type": "markdown",
      "metadata": {
        "id": "neoDxRpKPPCi"
      },
      "source": [
        "## **Exercício 6**\n",
        "\n",
        "Crie um programa que dado um nome, busca a quantidade de vezes que esse nome aparece em uma lista. Empregue a lista de nomes do exercício anterior ou você pode criar uma nova. \n"
      ]
    },
    {
      "cell_type": "code",
      "metadata": {
        "id": "wwgTF6XTPQ9U"
      },
      "source": [
        "# seu código\n",
        "\n",
        "nome=input(\"Digite o nome que está procurando\")\n",
        "nomes.count(nome)"
      ],
      "execution_count": null,
      "outputs": []
    },
    {
      "cell_type": "markdown",
      "metadata": {
        "id": "Bd2yakcuPm9U"
      },
      "source": [
        "## **Exercício 7, Dicionário de Têrmos**\n",
        "\n",
        "Crie um dicionário de têrmos (palavras) para a biografia do escritor **Gabriel García Márquez**. \n",
        "\n",
        "1. A primeira célula obtém o texto da biografia do escritor na variável `texto`. \n",
        "2. Na segunda célula **adapte o código** para criar o dicionário de têrmos com a seguinte estrutura:\n",
        "```\n",
        "  mydict = { 'word1': qty, 'word2': qty, 'word3': qty, ...}\n",
        "```\n",
        "3. A terceira célula apresenta um gráfico de distribuição dos têrmos do seu dicionário\n",
        "\n",
        "\n"
      ]
    },
    {
      "cell_type": "code",
      "metadata": {
        "id": "Ngqz9eTdPwWA",
        "colab": {
          "base_uri": "https://localhost:8080/"
        },
        "outputId": "a3849990-7d86-4600-c329-4dd4b3b27492"
      },
      "source": [
        "# Obtém o texto na lista 'texto'\n",
        "###  Não altere este código ###\n",
        "\n",
        "import urllib.request  # the lib that handles the url stuff\n",
        "texto = []\n",
        "link='https://creativovisual.com.co/python/Gabriel.txt'\n",
        "for line in urllib.request.urlopen(link): \n",
        "    texto.append(line.decode('utf-8')) #print(line.decode('utf-8')) #utf-8 or iso8859-1\n",
        "print(texto)  \n",
        "\n",
        "#Elimando vírgulas, parênteses,...\n",
        "\n",
        "txt=str(texto)\n",
        "texto2=txt.replace(\"\\\\r\\\\n'\", \"\").replace('-',' ').replace(\"'\", \" \").replace('.','').replace(',','').replace('(','').replace(')','').replace('“','').replace('”','').replace(':','').replace('[',' ').replace(']',' ')\n",
        "print(texto2)  \n"
      ],
      "execution_count": null,
      "outputs": [
        {
          "output_type": "stream",
          "name": "stdout",
          "text": [
            "['Gabriel García Márquez (1927-2014) foi um escritor colombiano. Autor do livro “Cem Anos de Solidão” publicado em 1967. Recebeu o Prêmio Nobel de Literatura, em 1982, pelo conjunto da obra.\\r\\n', 'Gabriel García Márquez nasceu em Aracataca, Colômbia, no dia 6 de março de 1927. Filho de Gabriel Elísio García e de Luisa Santiaga Márquez, que tiveram onze filhos. Gabriel passou seus primeiros anos na casa dos avós maternos em Aracataca, enquanto a família mudou-se para Barranquilla. Estudou no Liceu Nacional de Zipaquirá em Barranquilla.\\r\\n', 'Com 17 anos, decidiu se tornar escritor, segundo ele, após ler A Metamorfose de Kafka descobriu que o alemão contava as coisas da mesma maneira que sua avó.\\r\\n', 'Em 1947 mudou-se para Bogotá para estudar Direito e Ciência Política na Universidade Nacional da Colômbia, porém não concluiu o curso.\\r\\n', 'Ainda em 1947 publicou seu primeiro conto “A Terceira Resignação”, no jornal El Espectador. Em 1948, foi para Cartagena onde começou o trabalho de jornalista no El Universal. Em 1949 foi para Barranquilla como repórter do El Heraldo. Nesse mesmo ano, participou de um grupo de estudos de literatura.\\r\\n', 'Em 1954 começou a trabalhar no El Espectador como repórter e crítico. Em 1955, pulicou seu primeiro romance “A Revoada” (O Enterro do Diabo).\\r\\n', 'Em 1958, foi para a Europa como correspondente do El Espectador. Ao retornar para Barranquilla, casou-se com Mercedes Barcha, com quem teve dois filhos.\\r\\n', 'Em 1962, García Márquez foi para Nova Iorque como correspondente. Por sua filiação ao Partido Comunista e suas críticas aos exilados cubanos, como também sua amizade com Fidel Castro, o levaram a ser perseguido pela CIA e não conseguiu seu visto de permanência no país.\\r\\n', 'Acusado de colaborar com a guerrilha colombiana, García Márquez exilou-se no México, onde escreveu aquele que seria seu romance mais popular e sua obra-prima, “Cem Anos de Solidão” (1967).\\r\\n', 'O livro é um épico sobre uma família fictícia, Buendia, na imaginária cidade de Macondo. Nele, o escritor mescla lembranças pessoais com acontecimentos extraordinários.\\r\\n', 'O romance latino-americano mais importante do século XX, um marco da literatura mundial, retrata um universo mágico habitado por desejos, sonhos e paixões, descritos com insuperável talento poético.\\r\\n', 'O romance foi escrito em uma época de muito sofrimento, quando sua família acumulava dívidas. Para enviar o original datilografado à Argentina, o escritor precisou penhorar até seu aquecedor elétrico.\\r\\n', 'A recompensa só chegou em 1972, quando recebeu o Prêmio Latino-Americano de Romance Rômulo Gallegos pela obra.\\r\\n', 'Em 1971 voltou aos Estados Unidos para receber o título de Doutor Honoris Causa da Universidade de Colúmbia. Em 1982 ganhou o Prêmio Nobel de Literatura, pelo conjunto da obra. Em 1981 recebeu a Medalha da Legislação Francesa.\\r\\n', 'Gabriel García Márquez era tão apaixonado por cinema que pensou em ser cineasta. Além da vasta produção literária de romances, contos, trabalhos jornalísticos, foi também roteirista de diversos filmes.\\r\\n', 'Foi para Roma estudar como os filmes eram feitos. Esteve à frente de duas instituições dedicadas ao cinema, a Fundação do Novo Cinema Latino-Americano, da qual era presidente e da Escola Internacional de Cinema e TV de San António de Los Baños, ambas em Cuba.\\r\\n', 'Fiel ao comunismo e aliado dos cubanos, criou em Cuba um curso de cinema pelo qual passaram alguns realizadores brasileiros.\\r\\n', 'Gabriel García Márquez faleceu na Cidade do México, México, no dia 17 de abril de 2014.\\r\\n', 'Frases de Gabriel García Márquez:\\r\\n', 'A vida é uma sucessão contínua de oportunidades.\\r\\n', 'Dou valor às coisas, não por aquilo que valem, mas por aquilo que significam.\\r\\n', 'A vida não é a que a gente viveu e sim a que a gente recorda, e como recorda para contá-la.\\r\\n', 'A vida não é mais do que uma contínua sucessão de oportunidades para sobreviver.\\r\\n', 'Um único minuto de reconciliação vale mais do que toda uma vida de amizade.\\r\\n', 'Obras de Gabriel García Márquez\\r\\n', 'A Terceira Resignação, 1947\\r\\n', 'A Outra Costela da Morte, 1948\\r\\n', 'Amargura para Três Sonâmbulos, 1949\\r\\n', 'Diálogo do Espelho, 1949\\r\\n', 'A Mulher que Chegava às Seis, 1950\\r\\n', 'Nabo, o Negro que Fez Esperar os Anjos, 1951\\r\\n', 'Alguém Desarruma estas Rosas, 1952\\r\\n', 'Um Dia Depois do Sábado, 1955\\r\\n', 'A Revoada (O Enterro do Diabo), 1955\\r\\n', 'Relato de Um Náufrago, 1955\\r\\n', 'Ninguém Escreve ao Coronel, 1958\\r\\n', 'Os Funerais da Mamãe Grande, 1962\\r\\n', 'A Má Hora: o Veneno da Madrugada, 1962\\r\\n', 'Cem Anos de Solidão, 1967\\r\\n', 'Como Contar um Conto, 1947-1972\\r\\n', 'Todos os Contos, 1975\\r\\n', 'O Outono do Patriarca, 1975\\r\\n', 'Crônicas de Uma Morte Anunciada, 1982\\r\\n', 'O Amor nos Tempos do Cólera, 1985\\r\\n', 'Doze Contos Peregrinos, 1992\\r\\n', 'Do Amor e Outros Demônios, 1994\\r\\n', 'O Rastro do teu Sangue na Neve, 1981\\r\\n', 'O Verão Feliz da Senhora Forbes, 1982\\r\\n', 'A Aventura de Miguel Littin, Clandestino no Chile, 1986\\r\\n', 'O General em Seu Labirinto, 1989\\r\\n', 'Notícia de um Sequestro, 1997\\r\\n', 'Viver Para Contar (autobiografia), 2002\\r\\n', 'Memórias de Minhas Putas Tristes, 2004\\r\\n', 'Eu não Venho Fazer um Discurso, 2010\\r\\n', '\\r\\n']\n",
            "  Gabriel García Márquez 1927 2014 foi um escritor colombiano Autor do livro Cem Anos de Solidão publicado em 1967 Recebeu o Prêmio Nobel de Literatura em 1982 pelo conjunto da obra  Gabriel García Márquez nasceu em Aracataca Colômbia no dia 6 de março de 1927 Filho de Gabriel Elísio García e de Luisa Santiaga Márquez que tiveram onze filhos Gabriel passou seus primeiros anos na casa dos avós maternos em Aracataca enquanto a família mudou se para Barranquilla Estudou no Liceu Nacional de Zipaquirá em Barranquilla  Com 17 anos decidiu se tornar escritor segundo ele após ler A Metamorfose de Kafka descobriu que o alemão contava as coisas da mesma maneira que sua avó  Em 1947 mudou se para Bogotá para estudar Direito e Ciência Política na Universidade Nacional da Colômbia porém não concluiu o curso  Ainda em 1947 publicou seu primeiro conto A Terceira Resignação no jornal El Espectador Em 1948 foi para Cartagena onde começou o trabalho de jornalista no El Universal Em 1949 foi para Barranquilla como repórter do El Heraldo Nesse mesmo ano participou de um grupo de estudos de literatura  Em 1954 começou a trabalhar no El Espectador como repórter e crítico Em 1955 pulicou seu primeiro romance A Revoada O Enterro do Diabo  Em 1958 foi para a Europa como correspondente do El Espectador Ao retornar para Barranquilla casou se com Mercedes Barcha com quem teve dois filhos  Em 1962 García Márquez foi para Nova Iorque como correspondente Por sua filiação ao Partido Comunista e suas críticas aos exilados cubanos como também sua amizade com Fidel Castro o levaram a ser perseguido pela CIA e não conseguiu seu visto de permanência no país  Acusado de colaborar com a guerrilha colombiana García Márquez exilou se no México onde escreveu aquele que seria seu romance mais popular e sua obra prima Cem Anos de Solidão 1967  O livro é um épico sobre uma família fictícia Buendia na imaginária cidade de Macondo Nele o escritor mescla lembranças pessoais com acontecimentos extraordinários  O romance latino americano mais importante do século XX um marco da literatura mundial retrata um universo mágico habitado por desejos sonhos e paixões descritos com insuperável talento poético  O romance foi escrito em uma época de muito sofrimento quando sua família acumulava dívidas Para enviar o original datilografado à Argentina o escritor precisou penhorar até seu aquecedor elétrico  A recompensa só chegou em 1972 quando recebeu o Prêmio Latino Americano de Romance Rômulo Gallegos pela obra  Em 1971 voltou aos Estados Unidos para receber o título de Doutor Honoris Causa da Universidade de Colúmbia Em 1982 ganhou o Prêmio Nobel de Literatura pelo conjunto da obra Em 1981 recebeu a Medalha da Legislação Francesa  Gabriel García Márquez era tão apaixonado por cinema que pensou em ser cineasta Além da vasta produção literária de romances contos trabalhos jornalísticos foi também roteirista de diversos filmes  Foi para Roma estudar como os filmes eram feitos Esteve à frente de duas instituições dedicadas ao cinema a Fundação do Novo Cinema Latino Americano da qual era presidente e da Escola Internacional de Cinema e TV de San António de Los Baños ambas em Cuba  Fiel ao comunismo e aliado dos cubanos criou em Cuba um curso de cinema pelo qual passaram alguns realizadores brasileiros  Gabriel García Márquez faleceu na Cidade do México México no dia 17 de abril de 2014  Frases de Gabriel García Márquez  A vida é uma sucessão contínua de oportunidades  Dou valor às coisas não por aquilo que valem mas por aquilo que significam  A vida não é a que a gente viveu e sim a que a gente recorda e como recorda para contá la  A vida não é mais do que uma contínua sucessão de oportunidades para sobreviver  Um único minuto de reconciliação vale mais do que toda uma vida de amizade  Obras de Gabriel García Márquez  A Terceira Resignação 1947  A Outra Costela da Morte 1948  Amargura para Três Sonâmbulos 1949  Diálogo do Espelho 1949  A Mulher que Chegava às Seis 1950  Nabo o Negro que Fez Esperar os Anjos 1951  Alguém Desarruma estas Rosas 1952  Um Dia Depois do Sábado 1955  A Revoada O Enterro do Diabo 1955  Relato de Um Náufrago 1955  Ninguém Escreve ao Coronel 1958  Os Funerais da Mamãe Grande 1962  A Má Hora o Veneno da Madrugada 1962  Cem Anos de Solidão 1967  Como Contar um Conto 1947 1972  Todos os Contos 1975  O Outono do Patriarca 1975  Crônicas de Uma Morte Anunciada 1982  O Amor nos Tempos do Cólera 1985  Doze Contos Peregrinos 1992  Do Amor e Outros Demônios 1994  O Rastro do teu Sangue na Neve 1981  O Verão Feliz da Senhora Forbes 1982  A Aventura de Miguel Littin Clandestino no Chile 1986  O General em Seu Labirinto 1989  Notícia de um Sequestro 1997  Viver Para Contar autobiografia 2002  Memórias de Minhas Putas Tristes 2004  Eu não Venho Fazer um Discurso 2010   \n"
          ]
        }
      ]
    },
    {
      "cell_type": "code",
      "metadata": {
        "id": "9v5vMHAS2zvs"
      },
      "source": [
        "palavras"
      ],
      "execution_count": null,
      "outputs": []
    },
    {
      "cell_type": "code",
      "metadata": {
        "id": "R4R0G06bl7pt",
        "colab": {
          "base_uri": "https://localhost:8080/"
        },
        "outputId": "ca284c7e-90c6-4ab6-e8b5-db21914dfc28"
      },
      "source": [
        "# Seu código\n",
        "\n",
        "mydict = {}                          # crie um dicionário vazio\n",
        "palavras0=texto2.lower()             # texto com palavras minúsculas\n",
        "palavras=palavras0.split()           # separa cada palavra\n",
        "\n",
        "for j in palavras:                   # para cada palavra em \"palavras\"\n",
        "  mydict[j]=palavras.count(j)          # crie uma chave para cada palavra e associe a quantidade de vezes que aparece essa palavra \n",
        "print(mydict)                            # print(mydict)\n",
        "\n",
        "\n"
      ],
      "execution_count": null,
      "outputs": [
        {
          "output_type": "stream",
          "name": "stdout",
          "text": [
            "{'gabriel': 8, 'garcía': 9, 'márquez': 9, '1927': 2, '2014': 2, 'foi': 8, 'um': 12, 'escritor': 4, 'colombiano': 1, 'autor': 1, 'do': 16, 'livro': 2, 'cem': 3, 'anos': 5, 'de': 42, 'solidão': 3, 'publicado': 1, 'em': 22, '1967': 3, 'recebeu': 3, 'o': 23, 'prêmio': 3, 'nobel': 2, 'literatura': 4, '1982': 4, 'pelo': 3, 'conjunto': 2, 'da': 14, 'obra': 4, 'nasceu': 1, 'aracataca': 2, 'colômbia': 2, 'no': 9, 'dia': 3, '6': 1, 'março': 1, 'filho': 1, 'elísio': 1, 'e': 13, 'luisa': 1, 'santiaga': 1, 'que': 13, 'tiveram': 1, 'onze': 1, 'filhos': 2, 'passou': 1, 'seus': 1, 'primeiros': 1, 'na': 5, 'casa': 1, 'dos': 2, 'avós': 1, 'maternos': 1, 'enquanto': 1, 'a': 24, 'família': 3, 'mudou': 2, 'se': 5, 'para': 15, 'barranquilla': 4, 'estudou': 1, 'liceu': 1, 'nacional': 2, 'zipaquirá': 1, 'com': 7, '17': 2, 'decidiu': 1, 'tornar': 1, 'segundo': 1, 'ele': 1, 'após': 1, 'ler': 1, 'metamorfose': 1, 'kafka': 1, 'descobriu': 1, 'alemão': 1, 'contava': 1, 'as': 1, 'coisas': 2, 'mesma': 1, 'maneira': 1, 'sua': 5, 'avó': 1, '1947': 4, 'bogotá': 1, 'estudar': 2, 'direito': 1, 'ciência': 1, 'política': 1, 'universidade': 2, 'porém': 1, 'não': 6, 'concluiu': 1, 'curso': 2, 'ainda': 1, 'publicou': 1, 'seu': 6, 'primeiro': 2, 'conto': 2, 'terceira': 2, 'resignação': 2, 'jornal': 1, 'el': 5, 'espectador': 3, '1948': 2, 'cartagena': 1, 'onde': 2, 'começou': 2, 'trabalho': 1, 'jornalista': 1, 'universal': 1, '1949': 3, 'como': 8, 'repórter': 2, 'heraldo': 1, 'nesse': 1, 'mesmo': 1, 'ano': 1, 'participou': 1, 'grupo': 1, 'estudos': 1, '1954': 1, 'trabalhar': 1, 'crítico': 1, '1955': 4, 'pulicou': 1, 'romance': 5, 'revoada': 2, 'enterro': 2, 'diabo': 2, '1958': 2, 'europa': 1, 'correspondente': 2, 'ao': 5, 'retornar': 1, 'casou': 1, 'mercedes': 1, 'barcha': 1, 'quem': 1, 'teve': 1, 'dois': 1, '1962': 3, 'nova': 1, 'iorque': 1, 'por': 5, 'filiação': 1, 'partido': 1, 'comunista': 1, 'suas': 1, 'críticas': 1, 'aos': 2, 'exilados': 1, 'cubanos': 2, 'também': 2, 'amizade': 2, 'fidel': 1, 'castro': 1, 'levaram': 1, 'ser': 2, 'perseguido': 1, 'pela': 2, 'cia': 1, 'conseguiu': 1, 'visto': 1, 'permanência': 1, 'país': 1, 'acusado': 1, 'colaborar': 1, 'guerrilha': 1, 'colombiana': 1, 'exilou': 1, 'méxico': 3, 'escreveu': 1, 'aquele': 1, 'seria': 1, 'mais': 4, 'popular': 1, 'prima': 1, 'é': 4, 'épico': 1, 'sobre': 1, 'uma': 6, 'fictícia': 1, 'buendia': 1, 'imaginária': 1, 'cidade': 2, 'macondo': 1, 'nele': 1, 'mescla': 1, 'lembranças': 1, 'pessoais': 1, 'acontecimentos': 1, 'extraordinários': 1, 'latino': 3, 'americano': 3, 'importante': 1, 'século': 1, 'xx': 1, 'marco': 1, 'mundial': 1, 'retrata': 1, 'universo': 1, 'mágico': 1, 'habitado': 1, 'desejos': 1, 'sonhos': 1, 'paixões': 1, 'descritos': 1, 'insuperável': 1, 'talento': 1, 'poético': 1, 'escrito': 1, 'época': 1, 'muito': 1, 'sofrimento': 1, 'quando': 2, 'acumulava': 1, 'dívidas': 1, 'enviar': 1, 'original': 1, 'datilografado': 1, 'à': 2, 'argentina': 1, 'precisou': 1, 'penhorar': 1, 'até': 1, 'aquecedor': 1, 'elétrico': 1, 'recompensa': 1, 'só': 1, 'chegou': 1, '1972': 2, 'rômulo': 1, 'gallegos': 1, '1971': 1, 'voltou': 1, 'estados': 1, 'unidos': 1, 'receber': 1, 'título': 1, 'doutor': 1, 'honoris': 1, 'causa': 1, 'colúmbia': 1, 'ganhou': 1, '1981': 2, 'medalha': 1, 'legislação': 1, 'francesa': 1, 'era': 2, 'tão': 1, 'apaixonado': 1, 'cinema': 5, 'pensou': 1, 'cineasta': 1, 'além': 1, 'vasta': 1, 'produção': 1, 'literária': 1, 'romances': 1, 'contos': 3, 'trabalhos': 1, 'jornalísticos': 1, 'roteirista': 1, 'diversos': 1, 'filmes': 2, 'roma': 1, 'os': 4, 'eram': 1, 'feitos': 1, 'esteve': 1, 'frente': 1, 'duas': 1, 'instituições': 1, 'dedicadas': 1, 'fundação': 1, 'novo': 1, 'qual': 2, 'presidente': 1, 'escola': 1, 'internacional': 1, 'tv': 1, 'san': 1, 'antónio': 1, 'los': 1, 'baños': 1, 'ambas': 1, 'cuba': 2, 'fiel': 1, 'comunismo': 1, 'aliado': 1, 'criou': 1, 'passaram': 1, 'alguns': 1, 'realizadores': 1, 'brasileiros': 1, 'faleceu': 1, 'abril': 1, 'frases': 1, 'vida': 4, 'sucessão': 2, 'contínua': 2, 'oportunidades': 2, 'dou': 1, 'valor': 1, 'às': 2, 'aquilo': 2, 'valem': 1, 'mas': 1, 'significam': 1, 'gente': 2, 'viveu': 1, 'sim': 1, 'recorda': 2, 'contá': 1, 'la': 1, 'sobreviver': 1, 'único': 1, 'minuto': 1, 'reconciliação': 1, 'vale': 1, 'toda': 1, 'obras': 1, 'outra': 1, 'costela': 1, 'morte': 2, 'amargura': 1, 'três': 1, 'sonâmbulos': 1, 'diálogo': 1, 'espelho': 1, 'mulher': 1, 'chegava': 1, 'seis': 1, '1950': 1, 'nabo': 1, 'negro': 1, 'fez': 1, 'esperar': 1, 'anjos': 1, '1951': 1, 'alguém': 1, 'desarruma': 1, 'estas': 1, 'rosas': 1, '1952': 1, 'depois': 1, 'sábado': 1, 'relato': 1, 'náufrago': 1, 'ninguém': 1, 'escreve': 1, 'coronel': 1, 'funerais': 1, 'mamãe': 1, 'grande': 1, 'má': 1, 'hora': 1, 'veneno': 1, 'madrugada': 1, 'contar': 2, 'todos': 1, '1975': 2, 'outono': 1, 'patriarca': 1, 'crônicas': 1, 'anunciada': 1, 'amor': 2, 'nos': 1, 'tempos': 1, 'cólera': 1, '1985': 1, 'doze': 1, 'peregrinos': 1, '1992': 1, 'outros': 1, 'demônios': 1, '1994': 1, 'rastro': 1, 'teu': 1, 'sangue': 1, 'neve': 1, 'verão': 1, 'feliz': 1, 'senhora': 1, 'forbes': 1, 'aventura': 1, 'miguel': 1, 'littin': 1, 'clandestino': 1, 'chile': 1, '1986': 1, 'general': 1, 'labirinto': 1, '1989': 1, 'notícia': 1, 'sequestro': 1, '1997': 1, 'viver': 1, 'autobiografia': 1, '2002': 1, 'memórias': 1, 'minhas': 1, 'putas': 1, 'tristes': 1, '2004': 1, 'eu': 1, 'venho': 1, 'fazer': 1, 'discurso': 1, '2010': 1}\n"
          ]
        },
        {
          "output_type": "execute_result",
          "data": {
            "text/plain": [
              "9"
            ]
          },
          "metadata": {},
          "execution_count": 6
        }
      ]
    },
    {
      "cell_type": "code",
      "metadata": {
        "colab": {
          "base_uri": "https://localhost:8080/"
        },
        "id": "UGQ1fPDT2K-Q",
        "outputId": "3511c05f-d5ee-4068-fa9e-888242856413"
      },
      "source": [
        "mydict[\"cem\"]"
      ],
      "execution_count": null,
      "outputs": [
        {
          "output_type": "execute_result",
          "data": {
            "text/plain": [
              "3"
            ]
          },
          "metadata": {},
          "execution_count": 8
        }
      ]
    },
    {
      "cell_type": "code",
      "metadata": {
        "id": "3ACtonc08BIl",
        "colab": {
          "base_uri": "https://localhost:8080/",
          "height": 686
        },
        "outputId": "93ca0305-cedc-4cb5-98b5-eeece71d599e"
      },
      "source": [
        "# plot da frequência de termos\n",
        "# não é necessário alterar esse código\n",
        "\n",
        "import pandas as pd\n",
        "import seaborn as sns\n",
        "import matplotlib as mpl\n",
        "import matplotlib.pyplot as plt\n",
        "\n",
        "df = pd.DataFrame(mydict.items(),  columns=['word', 'count']).sort_values('count',ascending=False)\n",
        "df = df[df['count'] > 7]\n",
        "\n",
        "plt.figure(figsize=(20,10));\n",
        "mpl.style.use(['seaborn']);\n",
        "sns.barplot(df.word,df['count']);\n",
        "plt.xticks(rotation=90); "
      ],
      "execution_count": null,
      "outputs": [
        {
          "output_type": "stream",
          "name": "stderr",
          "text": [
            "/usr/local/lib/python3.7/dist-packages/seaborn/_decorators.py:43: FutureWarning: Pass the following variables as keyword args: x, y. From version 0.12, the only valid positional argument will be `data`, and passing other arguments without an explicit keyword will result in an error or misinterpretation.\n",
            "  FutureWarning\n"
          ]
        },
        {
          "output_type": "display_data",
          "data": {
            "image/png": "[encoded data removed]",
            "text/plain": [
              "<Figure size 1440x720 with 1 Axes>"
            ]
          },
          "metadata": {
            "needs_background": "light"
          }
        }
      ]
    },
    {
      "cell_type": "markdown",
      "metadata": {
        "id": "l5ZLM8699eS2"
      },
      "source": [
        "## Exercício 8, Dicionário de Têrmos II"
      ]
    },
    {
      "cell_type": "markdown",
      "metadata": {
        "id": "5RSde6PH9akR"
      },
      "source": [
        "Altere a entrada de dados do exercício anterior para ler o **texto Ulisses, de James Joyce.** Qual dos seguintes nomes corresponde ao personagem principal da obra Ulisses: bloom, ulysses ou stephen. \n",
        "\n",
        "Link: https://www.gutenberg.org/files/4300/4300-0.txt (Ulysses, James Joyce)\n",
        "\n",
        "Assuma que o personagem mais citado numa obra é o protagonista.\n",
        "\n",
        "Dica: Empregue a frequência dos têrmos do dicionário para identificar o personagem mais importante."
      ]
    },
    {
      "cell_type": "code",
      "metadata": {
        "id": "TOsuipXe9num"
      },
      "source": [
        "# Seu código"
      ],
      "execution_count": null,
      "outputs": []
    },
    {
      "cell_type": "code",
      "metadata": {
        "id": "BuyPCDI7_ENt"
      },
      "source": [
        "print(mydict['bloom'], mydict['ulysses'], mydict['stephen'])"
      ],
      "execution_count": null,
      "outputs": []
    },
    {
      "cell_type": "markdown",
      "metadata": {
        "id": "gXqPoQivigsE"
      },
      "source": [
        "# Luhn e Zipf Law e Ciência de Dados"
      ]
    },
    {
      "cell_type": "markdown",
      "metadata": {
        "id": "V6ThCtlHic96"
      },
      "source": [
        "A frequência de termos (quantidade que cada palavra aparece em um texto) tem grande importância em uma série de problemas envolvendo busca, classificação e sumarização automática de documentos.  \n",
        "\n",
        "As palavras que um texto contêm e a frequencia delas pode muito bem dar uma pista do conteúdo do texto  \n",
        "\n",
        "> Hans Peter Luhn (1957): **The weight of a term that occurs in a document is simply proportional to the term frequency**.\n",
        "\n",
        "Entretanto parecem haver termos muito frequentes, como artigos, preposições etc. que parecem contribuir muito pouco para explicar o conteúdo de um texto.\n",
        "\n",
        "> George Kingsley Zipf: **Zipf's law states that given a large sample of words used, the frequency of any word is inversely proportional to its rank in the frequency table. So word number n has a frequency proportional to 1/n.**\n",
        "\n",
        "Isso ocorre em todo o texto de produção humana e, importante, em *qualquer língua*. Esse princípio é empregado desde para decifrar códigos e texto em linguas antigas, como em modernos sistemas de mineração de texto (*search engines*, bibliotecas digitais, classificação automática de conteúdo etc.).\n",
        "\n",
        "Veja alguns textos famosos em diferentes línguas:  "
      ]
    },
    {
      "cell_type": "code",
      "metadata": {
        "id": "TUGQsaJOimUf"
      },
      "source": [
        "from IPython.display import IFrame\n",
        "IFrame('https://demonstrations.wolfram.com/ZipfsLawAppliedToWordAndLetterFrequencies/', width='1000', height=600)"
      ],
      "execution_count": null,
      "outputs": []
    }
  ]
}